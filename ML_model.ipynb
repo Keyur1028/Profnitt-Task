{
  "cells": [
    {
      "cell_type": "markdown",
      "metadata": {
        "id": "view-in-github",
        "colab_type": "text"
      },
      "source": [
        "<a href=\"https://colab.research.google.com/github/Keyur1028/Profnitt-Task/blob/main/ML_model.ipynb\" target=\"_parent\"><img src=\"https://colab.research.google.com/assets/colab-badge.svg\" alt=\"Open In Colab\"/></a>"
      ]
    },
    {
      "cell_type": "code",
      "execution_count": null,
      "metadata": {
        "id": "gdHpE5VqEbj-"
      },
      "outputs": [],
      "source": [
        "!pip install yfinance ta seaborn\n",
        "\n",
        "import yfinance as yf\n",
        "import pandas as pd\n",
        "import numpy as np\n",
        "import matplotlib.pyplot as plt\n",
        "import seaborn as sns\n",
        "\n",
        "from ta.volatility import BollingerBands\n",
        "from ta.trend import MACD, SMAIndicator, EMAIndicator\n",
        "from ta.momentum import RSIIndicator\n",
        "from sklearn.model_selection import train_test_split\n",
        "from sklearn.ensemble import RandomForestRegressor\n",
        "from sklearn.metrics import mean_squared_error\n",
        "import pickle\n"
      ]
    },
    {
      "cell_type": "code",
      "execution_count": null,
      "metadata": {
        "id": "bogDDYu7GECJ"
      },
      "outputs": [],
      "source": [
        "import yfinance as yf\n",
        "import pandas as pd\n",
        "\n",
        "# Data download, change period and stock\n",
        "Stock = input(\"Enter stock symbol (e.g., AAPL): \")\n",
        "ticker = Stock\n",
        "\n",
        "df = yf.download(ticker, period=\"1y\", interval=\"1d\")\n",
        "df.dropna()\n",
        "df.head()"
      ]
    },
    {
      "cell_type": "code",
      "execution_count": null,
      "metadata": {
        "id": "UmX55rLaLBKg"
      },
      "outputs": [],
      "source": [
        "dfClose = df['Close']\n",
        "dfClose = dfClose.transpose()\n",
        "dfClose = dfClose.squeeze()"
      ]
    },
    {
      "cell_type": "markdown",
      "source": [
        "This was needed to convert the incoming data from 2D to a 1D vector"
      ],
      "metadata": {
        "id": "mUNeavqe2_7H"
      }
    },
    {
      "cell_type": "code",
      "execution_count": null,
      "metadata": {
        "id": "pKNhHCFEIh_Q"
      },
      "outputs": [],
      "source": [
        "#Indicators\n",
        "\n",
        "\n",
        "# Simple and Exponential Moving Average\n",
        "\n",
        "df['SMA_10'] = SMAIndicator(close=dfClose, window=10).sma_indicator()\n",
        "df['EMA_10'] = EMAIndicator(close=dfClose, window=10).ema_indicator()\n",
        "\n",
        "# RSI\n",
        "df['RSI'] = RSIIndicator(close=dfClose, window=14).rsi()\n",
        "\n",
        "# MACD\n",
        "macd = MACD(close=dfClose)\n",
        "df['MACD'] = macd.macd_diff()\n",
        "\n",
        "# Bollinger Band Width\n",
        "bb = BollingerBands(close=dfClose)\n",
        "df['BB_width'] = bb.bollinger_wband()\n",
        "\n",
        "# Volume spike (as % change)\n",
        "df['Volume_change'] = df['Volume'].pct_change()\n",
        "\n",
        "n= int(input(\"Enter prediction period:\"))\n",
        "\n",
        "# Check if n is too large\n",
        "if n >= len(df) - max(10, 14): # 10 and 14 are the largest window sizes for SMA and RSI\n",
        "    print(f\"Warning: Prediction period (n={n}) is too large for the available data after calculating indicators. Please enter a smaller value for n.\")\n",
        "    # You might want to exit here or handle this case differently depending on your needs\n",
        "    # For now, we'll continue but the resulting df will be empty\n",
        "else:\n",
        "    # Target Variable: Rolling volatility over next n days (standard deviation of returns)\n",
        "    df['Future_volatility'] = dfClose.pct_change().rolling(window=n).std().shift(-n)\n",
        "    df = df.dropna()\n",
        "\n",
        "df.tail()"
      ]
    },
    {
      "cell_type": "markdown",
      "source": [
        "The indicators this model is using is Moving avarages,RSI, Brollinger bands and Volume spikes"
      ],
      "metadata": {
        "id": "FR-fXPPt3Lf-"
      }
    },
    {
      "cell_type": "code",
      "execution_count": null,
      "metadata": {
        "id": "G9XelNF-I8-G"
      },
      "outputs": [],
      "source": [
        "#Correlation matrix\n",
        "plt.figure(figsize=(10,6))\n",
        "sns.heatmap(df.corr(), annot=True, cmap='coolwarm')\n",
        "plt.title(\"Feature Correlation Matrix\")\n",
        "plt.show()\n"
      ]
    },
    {
      "cell_type": "code",
      "execution_count": null,
      "metadata": {
        "id": "OSy_b7xLJJvS"
      },
      "outputs": [],
      "source": [
        "#Feature map\n",
        "df[['SMA_10', 'EMA_10', 'RSI', 'MACD', 'BB_width', 'Volume_change']].hist(bins=30, figsize=(12, 8))\n",
        "plt.suptitle(\"Feature Distributions\")\n",
        "plt.show()\n"
      ]
    },
    {
      "cell_type": "code",
      "execution_count": null,
      "metadata": {
        "id": "nSlpkS52JP16"
      },
      "outputs": [],
      "source": [
        "#Model\n",
        "features = ['SMA_10', 'EMA_10', 'RSI', 'MACD', 'BB_width', 'Volume_change']\n",
        "\n",
        "# Check if df is empty before splitting\n",
        "if not df.empty:\n",
        "    X = df[features]\n",
        "    y = df['Future_volatility']\n",
        "\n",
        "    X_train, X_test, y_train, y_test = train_test_split(X, y, test_size=0.2, random_state=42)\n",
        "\n",
        "    model = RandomForestRegressor(n_estimators=100, random_state=42)\n",
        "    model.fit(X_train, y_train)\n",
        "\n",
        "    y_pred = model.predict(X_test)\n",
        "    mse = mean_squared_error(y_test, y_pred)\n",
        "\n",
        "    print(f'Mean Squared Error on Test Set: {mse:.6f}')\n",
        "else:\n",
        "    print(\"DataFrame is empty. Cannot train the model.\")"
      ]
    },
    {
      "cell_type": "code",
      "execution_count": null,
      "metadata": {
        "id": "wm-dynzGJTmz"
      },
      "outputs": [],
      "source": [
        "# Save the model using pickle\n",
        "with open('volatility_model.pkl', 'wb') as f:\n",
        "    pickle.dump(model, f)\n"
      ]
    },
    {
      "cell_type": "code",
      "execution_count": null,
      "metadata": {
        "id": "4VrCD5uTfO-K"
      },
      "outputs": [],
      "source": [
        "import pickle\n",
        "\n",
        "with open(\"volatility_model.pkl\", \"rb\") as f:\n",
        "    model = pickle.load(f)"
      ]
    },
    {
      "cell_type": "code",
      "execution_count": null,
      "metadata": {
        "id": "SGIZWsl2fW6O"
      },
      "outputs": [],
      "source": [
        "features = ['SMA_10', 'EMA_10', 'RSI', 'MACD', 'BB_width', 'Volume_change']\n",
        "latest_input = df[features].iloc[-1:]  # shape (1, n_features)\n"
      ]
    },
    {
      "cell_type": "code",
      "execution_count": null,
      "metadata": {
        "id": "rFQQa7EKfaoi"
      },
      "outputs": [],
      "source": [
        "dfClose = df['Close']\n",
        "dfClose = dfClose.transpose()\n",
        "dfClose = dfClose.squeeze()\n",
        "# (Recalculate the indicators just before prediction)\n",
        "df['SMA_10'] = SMAIndicator(close=dfClose, window=10).sma_indicator()\n",
        "# ... repeat for EMA_10, RSI, MACD, etc.\n",
        "df.dropna(inplace=True)  # to remove rows with NaNs\n"
      ]
    },
    {
      "cell_type": "code",
      "execution_count": null,
      "metadata": {
        "id": "iHktwqoDffBg"
      },
      "outputs": [],
      "source": [
        "predicted_volatility = model.predict(latest_input)[0]\n",
        "print(f\"Predicted {n} -day volatility for {ticker}: {predicted_volatility:.6f}\")\n"
      ]
    }
  ],
  "metadata": {
    "colab": {
      "provenance": [],
      "authorship_tag": "ABX9TyM/o+Kw3uGzP0xx3vdrkm2/",
      "include_colab_link": true
    },
    "kernelspec": {
      "display_name": "Python 3",
      "name": "python3"
    },
    "language_info": {
      "name": "python"
    }
  },
  "nbformat": 4,
  "nbformat_minor": 0
}